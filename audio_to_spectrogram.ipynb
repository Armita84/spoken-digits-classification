{
 "cells": [
  {
   "cell_type": "code",
   "execution_count": 0,
   "metadata": {
    "colab": {},
    "colab_type": "code",
    "id": "wyumrwke6pU0"
   },
   "outputs": [],
   "source": [
    "from __future__ import division, print_function\n",
    "from os import listdir\n",
    "from os.path import isfile, join\n",
    "\n",
    "from matplotlib import pyplot as plt\n",
    "import scipy.io.wavfile as wav"
   ]
  },
  {
   "cell_type": "code",
   "execution_count": 0,
   "metadata": {
    "colab": {},
    "colab_type": "code",
    "id": "tt5PvAgp6rHi"
   },
   "outputs": [],
   "source": [
    "def wav_to_spectrogram(audio_path, save_path, spectrogram_dimensions=(64, 64), noverlap=16, cmap='gray_r'):\n",
    "    \"\"\" Creates a spectrogram of a wav file.\n",
    "    :param audio_path: path of wav file\n",
    "    :param save_path:  path of spectrogram to save\n",
    "    :param spectrogram_dimensions: number of pixels the spectrogram should be. Defaults (64,64)\n",
    "    :param noverlap: See http://docs.scipy.org/doc/scipy/reference/generated/scipy.signal.spectrogram.html\n",
    "    :param cmap: the color scheme to use for the spectrogram. Defaults to 'gray_r'\n",
    "    :return:\n",
    "    \"\"\"\n",
    "\n",
    "    sample_rate, samples = wav.read(audio_path)\n",
    "\n",
    "    fig = plt.figure()\n",
    "    fig.set_size_inches((spectrogram_dimensions[0]/fig.get_dpi(), spectrogram_dimensions[1]/fig.get_dpi()))\n",
    "    ax = plt.Axes(fig, [0., 0., 1., 1.])\n",
    "    ax.set_axis_off()\n",
    "    fig.add_axes(ax)\n",
    "    ax.specgram(samples, cmap=cmap, Fs=2, noverlap=noverlap)\n",
    "    ax.xaxis.set_major_locator(plt.NullLocator())\n",
    "    ax.yaxis.set_major_locator(plt.NullLocator())\n",
    "    fig.savefig(save_path, bbox_inches=\"tight\", pad_inches=0)"
   ]
  },
  {
   "cell_type": "code",
   "execution_count": 0,
   "metadata": {
    "colab": {},
    "colab_type": "code",
    "id": "BkhafFXS6rME"
   },
   "outputs": [],
   "source": [
    "def dir_to_spectrogram(audio_dir, spectrogram_dir, spectrogram_dimensions=(64, 64), noverlap=16, cmap='gray_r'):\n",
    "    \"\"\" Creates spectrograms of all the audio files in a dir\n",
    "    :param audio_dir: path of directory with audio files\n",
    "    :param spectrogram_dir: path to save spectrograms\n",
    "    :param spectrogram_dimensions: tuple specifying the dimensions in pixes of the created spectrogram. default:(64,64)\n",
    "    :param noverlap: See http://docs.scipy.org/doc/scipy/reference/generated/scipy.signal.spectrogram.html\n",
    "    :param cmap: the color scheme to use for the spectrogram. Defaults to 'gray_r'\n",
    "    :return:\n",
    "    \"\"\"\n",
    "    file_names = [f for f in listdir(audio_dir) if isfile(join(audio_dir, f)) and '.wav' in f]\n",
    "\n",
    "    for file_name in file_names:\n",
    "        print(file_name)\n",
    "        audio_path = audio_dir + file_name\n",
    "        spectogram_path = spectrogram_dir + file_name.replace('.wav', '.png')\n",
    "        wav_to_spectrogram(audio_path, spectogram_path, spectrogram_dimensions=spectrogram_dimensions, noverlap=noverlap, cmap=cmap)\n"
   ]
  },
  {
   "cell_type": "code",
   "execution_count": 0,
   "metadata": {
    "colab": {},
    "colab_type": "code",
    "id": "T4hakrRv6rPH"
   },
   "outputs": [],
   "source": [
    "if __name__ == '__main__':\n",
    "    audio_dir = \"recordings/\"\n",
    "    spectrogram_dir = \"spectrograms/\"\n",
    "    dir_to_spectrogram(audio_dir, spectrogram_dir)"
   ]
  }
 ],
 "metadata": {
  "colab": {
   "collapsed_sections": [],
   "name": "audio_to_spectrogram.ipynb",
   "provenance": []
  },
  "kernelspec": {
   "display_name": "Python 3",
   "language": "python",
   "name": "python3"
  },
  "language_info": {
   "codemirror_mode": {
    "name": "ipython",
    "version": 3
   },
   "file_extension": ".py",
   "mimetype": "text/x-python",
   "name": "python",
   "nbconvert_exporter": "python",
   "pygments_lexer": "ipython3",
   "version": "3.7.3"
  }
 },
 "nbformat": 4,
 "nbformat_minor": 1
}
