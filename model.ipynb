{
 "cells": [
  {
   "cell_type": "code",
   "execution_count": 0,
   "metadata": {
    "colab": {},
    "colab_type": "code",
    "id": "V8gIPnFj2Ejs"
   },
   "outputs": [],
   "source": [
    "import numpy as np\n",
    "import matplotlib.pyplot as plt"
   ]
  },
  {
   "cell_type": "code",
   "execution_count": 0,
   "metadata": {
    "colab": {
     "base_uri": "https://localhost:8080/",
     "height": 34
    },
    "colab_type": "code",
    "executionInfo": {
     "elapsed": 4320,
     "status": "ok",
     "timestamp": 1572892679961,
     "user": {
      "displayName": "Armi Raz",
      "photoUrl": "https://lh3.googleusercontent.com/a-/AAuE7mAHWqYQn3mmw1aIDUGuGBYdPIHXu01_T8HlF5YXsQ=s64",
      "userId": "13383343268747959111"
     },
     "user_tz": -210
    },
    "id": "RZype3aRtMjg",
    "outputId": "dee9b52a-fc88-4730-960e-d03a826e2ad2"
   },
   "outputs": [
    {
     "name": "stdout",
     "output_type": "stream",
     "text": [
      "Requirement already satisfied: tensorboardcolab in /usr/local/lib/python3.6/dist-packages (0.0.22)\n"
     ]
    }
   ],
   "source": [
    "!pip install tensorboardcolab"
   ]
  },
  {
   "cell_type": "markdown",
   "metadata": {
    "colab_type": "text",
    "id": "pIQXXWmC5bcs"
   },
   "source": [
    "## Load Datasets"
   ]
  },
  {
   "cell_type": "code",
   "execution_count": 0,
   "metadata": {
    "colab": {},
    "colab_type": "code",
    "id": "3BxE14T32dRl"
   },
   "outputs": [],
   "source": [
    "X_train = np.load(\"xtrain_file.npy\")\n",
    "X_test = np.load(\"xtest_file.npy\")\n",
    "y_train = np.load(\"ytrain_file.npy\")\n",
    "y_test = np.load(\"ytest_file.npy\")"
   ]
  },
  {
   "cell_type": "code",
   "execution_count": 0,
   "metadata": {
    "colab": {},
    "colab_type": "code",
    "id": "_qeHKaC34VXu"
   },
   "outputs": [],
   "source": [
    "# Normalize train dataset\n",
    "X_train /= 255\n",
    "X_test /= 255"
   ]
  },
  {
   "cell_type": "code",
   "execution_count": 6,
   "metadata": {
    "colab": {
     "base_uri": "https://localhost:8080/",
     "height": 34
    },
    "colab_type": "code",
    "executionInfo": {
     "elapsed": 902,
     "status": "ok",
     "timestamp": 1573032841865,
     "user": {
      "displayName": "Armi Raz",
      "photoUrl": "https://lh3.googleusercontent.com/a-/AAuE7mAHWqYQn3mmw1aIDUGuGBYdPIHXu01_T8HlF5YXsQ=s64",
      "userId": "13383343268747959111"
     },
     "user_tz": -210
    },
    "id": "HMYlDZhX2dGN",
    "outputId": "d61e7f13-8889-40ae-c42b-42790cf954e3"
   },
   "outputs": [
    {
     "name": "stdout",
     "output_type": "stream",
     "text": [
      "(1800, 64, 64, 3) (200, 64, 64, 3) (1800, 10) (200, 10)\n"
     ]
    }
   ],
   "source": [
    "print(X_train.shape, X_test.shape, y_train.shape, y_test.shape)"
   ]
  },
  {
   "cell_type": "markdown",
   "metadata": {
    "colab_type": "text",
    "id": "pFzN8lq3414R"
   },
   "source": [
    "## CNN #0"
   ]
  },
  {
   "cell_type": "code",
   "execution_count": 7,
   "metadata": {
    "colab": {
     "base_uri": "https://localhost:8080/",
     "height": 80
    },
    "colab_type": "code",
    "executionInfo": {
     "elapsed": 2319,
     "status": "ok",
     "timestamp": 1573032846837,
     "user": {
      "displayName": "Armi Raz",
      "photoUrl": "https://lh3.googleusercontent.com/a-/AAuE7mAHWqYQn3mmw1aIDUGuGBYdPIHXu01_T8HlF5YXsQ=s64",
      "userId": "13383343268747959111"
     },
     "user_tz": -210
    },
    "id": "aQTa_E394zgS",
    "outputId": "a452304c-52fc-4b9d-ddce-e2d4e6992f24"
   },
   "outputs": [
    {
     "name": "stderr",
     "output_type": "stream",
     "text": [
      "Using TensorFlow backend.\n"
     ]
    },
    {
     "data": {
      "text/html": [
       "<p style=\"color: red;\">\n",
       "The default version of TensorFlow in Colab will soon switch to TensorFlow 2.x.<br>\n",
       "We recommend you <a href=\"https://www.tensorflow.org/guide/migrate\" target=\"_blank\">upgrade</a> now \n",
       "or ensure your notebook will continue to use TensorFlow 1.x via the <code>%tensorflow_version 1.x</code> magic:\n",
       "<a href=\"https://colab.research.google.com/notebooks/tensorflow_version.ipynb\" target=\"_blank\">more info</a>.</p>\n"
      ],
      "text/plain": [
       "<IPython.core.display.HTML object>"
      ]
     },
     "metadata": {
      "tags": []
     },
     "output_type": "display_data"
    }
   ],
   "source": [
    "from keras.models import Sequential\n",
    "from keras import optimizers\n",
    "from keras.layers import Dense, Activation, Flatten, Conv2D, MaxPooling2D, Dropout, BatchNormalization\n",
    "from tensorboardcolab import TensorBoardColab, TensorBoardColabCallback"
   ]
  },
  {
   "cell_type": "code",
   "execution_count": 0,
   "metadata": {
    "colab": {},
    "colab_type": "code",
    "id": "paWHLG0V4z2D"
   },
   "outputs": [],
   "source": [
    "data_shape = (X_train.shape[1], X_train.shape[2], X_train.shape[3])\n",
    "def basic_cnn():\n",
    "    model = Sequential()\n",
    "\n",
    "    model.add(Conv2D(32, kernel_size=(2, 2), activation='relu', input_shape=data_shape))\n",
    "    model.add(BatchNormalization())\n",
    "\n",
    "    model.add(Conv2D(48, kernel_size=(2, 2), activation='relu'))\n",
    "    model.add(BatchNormalization())\n",
    "\n",
    "    model.add(Conv2D(120, kernel_size=(2, 2), activation='relu'))\n",
    "    model.add(BatchNormalization())\n",
    "\n",
    "    model.add(MaxPooling2D(pool_size=(2, 2)))\n",
    "    model.add(Dropout(0.25))\n",
    "\n",
    "    model.add(Flatten())\n",
    "\n",
    "    model.add(Dense(128, activation='relu'))\n",
    "    model.add(BatchNormalization())\n",
    "    model.add(Dropout(0.25))\n",
    "    model.add(Dense(64, activation='relu'))\n",
    "    model.add(BatchNormalization())\n",
    "    model.add(Dropout(0.4))\n",
    "    model.add(Dense(10, activation='softmax'))\n",
    "    adadelta = optimizers.Adadelta()\n",
    "    model.compile(loss = 'categorical_crossentropy', optimizer= adadelta, metrics=['accuracy'])\n",
    "\n",
    "    return model"
   ]
  },
  {
   "cell_type": "code",
   "execution_count": 0,
   "metadata": {
    "colab": {
     "base_uri": "https://localhost:8080/",
     "height": 51
    },
    "colab_type": "code",
    "executionInfo": {
     "elapsed": 1148,
     "status": "ok",
     "timestamp": 1572895349179,
     "user": {
      "displayName": "Armi Raz",
      "photoUrl": "https://lh3.googleusercontent.com/a-/AAuE7mAHWqYQn3mmw1aIDUGuGBYdPIHXu01_T8HlF5YXsQ=s64",
      "userId": "13383343268747959111"
     },
     "user_tz": -210
    },
    "id": "Ihg7Otqt40Qe",
    "outputId": "93522e94-c1d9-45f0-c9a7-3e4aa82c6e06"
   },
   "outputs": [
    {
     "name": "stdout",
     "output_type": "stream",
     "text": [
      "WARNING:tensorflow:From /usr/local/lib/python3.6/dist-packages/keras/backend/tensorflow_backend.py:2041: The name tf.nn.fused_batch_norm is deprecated. Please use tf.compat.v1.nn.fused_batch_norm instead.\n",
      "\n"
     ]
    }
   ],
   "source": [
    "model0 = basic_cnn()"
   ]
  },
  {
   "cell_type": "code",
   "execution_count": 0,
   "metadata": {
    "colab": {
     "base_uri": "https://localhost:8080/",
     "height": 697
    },
    "colab_type": "code",
    "executionInfo": {
     "elapsed": 632,
     "status": "ok",
     "timestamp": 1572895353304,
     "user": {
      "displayName": "Armi Raz",
      "photoUrl": "https://lh3.googleusercontent.com/a-/AAuE7mAHWqYQn3mmw1aIDUGuGBYdPIHXu01_T8HlF5YXsQ=s64",
      "userId": "13383343268747959111"
     },
     "user_tz": -210
    },
    "id": "-r4Vgdre40jA",
    "outputId": "2645f86f-c58f-42c4-bed1-20948b65494a"
   },
   "outputs": [
    {
     "name": "stdout",
     "output_type": "stream",
     "text": [
      "Model: \"sequential_3\"\n",
      "_________________________________________________________________\n",
      "Layer (type)                 Output Shape              Param #   \n",
      "=================================================================\n",
      "conv2d_9 (Conv2D)            (None, 63, 63, 32)        416       \n",
      "_________________________________________________________________\n",
      "batch_normalization_1 (Batch (None, 63, 63, 32)        128       \n",
      "_________________________________________________________________\n",
      "conv2d_10 (Conv2D)           (None, 62, 62, 48)        6192      \n",
      "_________________________________________________________________\n",
      "batch_normalization_2 (Batch (None, 62, 62, 48)        192       \n",
      "_________________________________________________________________\n",
      "conv2d_11 (Conv2D)           (None, 61, 61, 120)       23160     \n",
      "_________________________________________________________________\n",
      "batch_normalization_3 (Batch (None, 61, 61, 120)       480       \n",
      "_________________________________________________________________\n",
      "max_pooling2d_5 (MaxPooling2 (None, 30, 30, 120)       0         \n",
      "_________________________________________________________________\n",
      "dropout_7 (Dropout)          (None, 30, 30, 120)       0         \n",
      "_________________________________________________________________\n",
      "flatten_3 (Flatten)          (None, 108000)            0         \n",
      "_________________________________________________________________\n",
      "dense_5 (Dense)              (None, 128)               13824128  \n",
      "_________________________________________________________________\n",
      "batch_normalization_4 (Batch (None, 128)               512       \n",
      "_________________________________________________________________\n",
      "dropout_8 (Dropout)          (None, 128)               0         \n",
      "_________________________________________________________________\n",
      "dense_6 (Dense)              (None, 64)                8256      \n",
      "_________________________________________________________________\n",
      "batch_normalization_5 (Batch (None, 64)                256       \n",
      "_________________________________________________________________\n",
      "dropout_9 (Dropout)          (None, 64)                0         \n",
      "_________________________________________________________________\n",
      "dense_7 (Dense)              (None, 10)                650       \n",
      "=================================================================\n",
      "Total params: 13,864,370\n",
      "Trainable params: 13,863,586\n",
      "Non-trainable params: 784\n",
      "_________________________________________________________________\n"
     ]
    }
   ],
   "source": [
    "model0.summary()"
   ]
  },
  {
   "cell_type": "code",
   "execution_count": 0,
   "metadata": {
    "colab": {
     "base_uri": "https://localhost:8080/",
     "height": 187
    },
    "colab_type": "code",
    "executionInfo": {
     "elapsed": 30040,
     "status": "ok",
     "timestamp": 1572892802340,
     "user": {
      "displayName": "Armi Raz",
      "photoUrl": "https://lh3.googleusercontent.com/a-/AAuE7mAHWqYQn3mmw1aIDUGuGBYdPIHXu01_T8HlF5YXsQ=s64",
      "userId": "13383343268747959111"
     },
     "user_tz": -210
    },
    "id": "ORJ-0TPQtqQX",
    "outputId": "a52f7d15-eb47-488c-b9ad-82ecb2f1324c"
   },
   "outputs": [
    {
     "name": "stdout",
     "output_type": "stream",
     "text": [
      "Wait for 8 seconds...\n"
     ]
    },
    {
     "name": "stderr",
     "output_type": "stream",
     "text": [
      "\n",
      "KeyboardInterrupt\n",
      "\n"
     ]
    },
    {
     "name": "stdout",
     "output_type": "stream",
     "text": [
      "Initialization failed, retry again (1)\n",
      "\n",
      "\n",
      "Wait for 8 seconds...\n",
      "TensorBoard link:\n",
      "https://66c34f98.ngrok.io\n"
     ]
    }
   ],
   "source": [
    "# tensorboard_callback = TensorBoardColab()"
   ]
  },
  {
   "cell_type": "code",
   "execution_count": 0,
   "metadata": {
    "colab": {
     "base_uri": "https://localhost:8080/",
     "height": 51
    },
    "colab_type": "code",
    "executionInfo": {
     "elapsed": 102545,
     "status": "ok",
     "timestamp": 1572895460699,
     "user": {
      "displayName": "Armi Raz",
      "photoUrl": "https://lh3.googleusercontent.com/a-/AAuE7mAHWqYQn3mmw1aIDUGuGBYdPIHXu01_T8HlF5YXsQ=s64",
      "userId": "13383343268747959111"
     },
     "user_tz": -210
    },
    "id": "jKNoLjP15PsQ",
    "outputId": "8e7f3ede-1c90-4e12-9012-7cbc7ee05676"
   },
   "outputs": [
    {
     "name": "stdout",
     "output_type": "stream",
     "text": [
      "CPU times: user 1min 12s, sys: 19.5 s, total: 1min 32s\n",
      "Wall time: 1min 41s\n"
     ]
    }
   ],
   "source": [
    "%%time\n",
    "history = model0.fit(X_train, y_train, batch_size = 50, validation_split=0.2, epochs = 100, verbose = 0)"
   ]
  },
  {
   "cell_type": "code",
   "execution_count": 0,
   "metadata": {
    "colab": {
     "base_uri": "https://localhost:8080/",
     "height": 265
    },
    "colab_type": "code",
    "executionInfo": {
     "elapsed": 663,
     "status": "ok",
     "timestamp": 1572895467494,
     "user": {
      "displayName": "Armi Raz",
      "photoUrl": "https://lh3.googleusercontent.com/a-/AAuE7mAHWqYQn3mmw1aIDUGuGBYdPIHXu01_T8HlF5YXsQ=s64",
      "userId": "13383343268747959111"
     },
     "user_tz": -210
    },
    "id": "nvs-KBHH5P_m",
    "outputId": "bd5a4ccb-ef08-4b5d-b6de-789361fd3824"
   },
   "outputs": [
    {
     "data": {
      "image/png": "[encoded data removed]",
      "text/plain": [
       "<Figure size 432x288 with 1 Axes>"
      ]
     },
     "metadata": {
      "tags": []
     },
     "output_type": "display_data"
    }
   ],
   "source": [
    "plt.plot(history.history['acc'])\n",
    "plt.plot(history.history['val_acc'])\n",
    "plt.legend(['training', 'validation'], loc = 'upper left')\n",
    "plt.show()"
   ]
  },
  {
   "cell_type": "code",
   "execution_count": 0,
   "metadata": {
    "colab": {
     "base_uri": "https://localhost:8080/",
     "height": 34
    },
    "colab_type": "code",
    "executionInfo": {
     "elapsed": 627,
     "status": "ok",
     "timestamp": 1572895470605,
     "user": {
      "displayName": "Armi Raz",
      "photoUrl": "https://lh3.googleusercontent.com/a-/AAuE7mAHWqYQn3mmw1aIDUGuGBYdPIHXu01_T8HlF5YXsQ=s64",
      "userId": "13383343268747959111"
     },
     "user_tz": -210
    },
    "id": "dnvlpeFH5Vax",
    "outputId": "3bad5deb-6e30-429c-ca2b-8e9666998a76"
   },
   "outputs": [
    {
     "name": "stdout",
     "output_type": "stream",
     "text": [
      "200/200 [==============================] - 0s 462us/step\n"
     ]
    }
   ],
   "source": [
    "results = model0.evaluate(X_test, y_test)"
   ]
  },
  {
   "cell_type": "code",
   "execution_count": 0,
   "metadata": {
    "colab": {
     "base_uri": "https://localhost:8080/",
     "height": 34
    },
    "colab_type": "code",
    "executionInfo": {
     "elapsed": 630,
     "status": "ok",
     "timestamp": 1572895473006,
     "user": {
      "displayName": "Armi Raz",
      "photoUrl": "https://lh3.googleusercontent.com/a-/AAuE7mAHWqYQn3mmw1aIDUGuGBYdPIHXu01_T8HlF5YXsQ=s64",
      "userId": "13383343268747959111"
     },
     "user_tz": -210
    },
    "id": "-7dEdQ8m5VkQ",
    "outputId": "72f20d2b-edfd-4b68-a53e-b8f979805b81"
   },
   "outputs": [
    {
     "name": "stdout",
     "output_type": "stream",
     "text": [
      "Test accuracy:  0.79\n"
     ]
    }
   ],
   "source": [
    "print('Test accuracy: ', results[1])"
   ]
  },
  {
   "cell_type": "markdown",
   "metadata": {
    "colab_type": "text",
    "id": "b4wHf6DGL8yt"
   },
   "source": [
    "## CNN #1"
   ]
  },
  {
   "cell_type": "code",
   "execution_count": 0,
   "metadata": {
    "colab": {},
    "colab_type": "code",
    "id": "_0jrGSW8KCiy"
   },
   "outputs": [],
   "source": [
    "data_shape = (X_train.shape[1], X_train.shape[2], X_train.shape[3])\n",
    "def cnn_1():\n",
    "    model = Sequential()\n",
    "    \n",
    "    model.add(Conv2D(32, kernel_size=(3, 3), activation='relu', input_shape=data_shape))\n",
    "    model.add(Conv2D(64, kernel_size=(3, 3), activation='relu'))\n",
    "    model.add(MaxPooling2D(pool_size=(2, 2)))\n",
    "    model.add(Dropout(0.25))\n",
    "    model.add(Flatten())\n",
    "    model.add(Dense(128, activation='relu'))\n",
    "    model.add(Dropout(0.5))\n",
    "    model.add(Dense(10, activation='softmax'))\n",
    "    \n",
    "    adam = optimizers.Adam(lr = 0.001)\n",
    "    model.compile(loss = 'categorical_crossentropy', optimizer = adam, metrics = ['accuracy'])\n",
    "    \n",
    "    return model"
   ]
  },
  {
   "cell_type": "code",
   "execution_count": 0,
   "metadata": {
    "colab": {
     "base_uri": "https://localhost:8080/",
     "height": 306
    },
    "colab_type": "code",
    "executionInfo": {
     "elapsed": 593,
     "status": "ok",
     "timestamp": 1572894238253,
     "user": {
      "displayName": "Armi Raz",
      "photoUrl": "https://lh3.googleusercontent.com/a-/AAuE7mAHWqYQn3mmw1aIDUGuGBYdPIHXu01_T8HlF5YXsQ=s64",
      "userId": "13383343268747959111"
     },
     "user_tz": -210
    },
    "id": "2Ati_z38KCzq",
    "outputId": "d5a5c38e-e41b-4fa1-d9fb-7723e7716888"
   },
   "outputs": [
    {
     "name": "stdout",
     "output_type": "stream",
     "text": [
      "WARNING:tensorflow:From /usr/local/lib/python3.6/dist-packages/keras/backend/tensorflow_backend.py:66: The name tf.get_default_graph is deprecated. Please use tf.compat.v1.get_default_graph instead.\n",
      "\n",
      "WARNING:tensorflow:From /usr/local/lib/python3.6/dist-packages/keras/backend/tensorflow_backend.py:541: The name tf.placeholder is deprecated. Please use tf.compat.v1.placeholder instead.\n",
      "\n",
      "WARNING:tensorflow:From /usr/local/lib/python3.6/dist-packages/keras/backend/tensorflow_backend.py:4432: The name tf.random_uniform is deprecated. Please use tf.random.uniform instead.\n",
      "\n",
      "WARNING:tensorflow:From /usr/local/lib/python3.6/dist-packages/keras/backend/tensorflow_backend.py:4267: The name tf.nn.max_pool is deprecated. Please use tf.nn.max_pool2d instead.\n",
      "\n",
      "WARNING:tensorflow:From /usr/local/lib/python3.6/dist-packages/keras/backend/tensorflow_backend.py:148: The name tf.placeholder_with_default is deprecated. Please use tf.compat.v1.placeholder_with_default instead.\n",
      "\n",
      "WARNING:tensorflow:From /usr/local/lib/python3.6/dist-packages/keras/backend/tensorflow_backend.py:3733: calling dropout (from tensorflow.python.ops.nn_ops) with keep_prob is deprecated and will be removed in a future version.\n",
      "Instructions for updating:\n",
      "Please use `rate` instead of `keep_prob`. Rate should be set to `rate = 1 - keep_prob`.\n",
      "WARNING:tensorflow:From /usr/local/lib/python3.6/dist-packages/keras/optimizers.py:793: The name tf.train.Optimizer is deprecated. Please use tf.compat.v1.train.Optimizer instead.\n",
      "\n",
      "WARNING:tensorflow:From /usr/local/lib/python3.6/dist-packages/keras/backend/tensorflow_backend.py:3576: The name tf.log is deprecated. Please use tf.math.log instead.\n",
      "\n"
     ]
    }
   ],
   "source": [
    "model = cnn_1()"
   ]
  },
  {
   "cell_type": "code",
   "execution_count": 0,
   "metadata": {
    "colab": {
     "base_uri": "https://localhost:8080/",
     "height": 425
    },
    "colab_type": "code",
    "executionInfo": {
     "elapsed": 592,
     "status": "ok",
     "timestamp": 1572894243387,
     "user": {
      "displayName": "Armi Raz",
      "photoUrl": "https://lh3.googleusercontent.com/a-/AAuE7mAHWqYQn3mmw1aIDUGuGBYdPIHXu01_T8HlF5YXsQ=s64",
      "userId": "13383343268747959111"
     },
     "user_tz": -210
    },
    "id": "jT0JvFUjKC4K",
    "outputId": "41991e6a-47d2-4878-dc11-786a3813d81b"
   },
   "outputs": [
    {
     "name": "stdout",
     "output_type": "stream",
     "text": [
      "Model: \"sequential_1\"\n",
      "_________________________________________________________________\n",
      "Layer (type)                 Output Shape              Param #   \n",
      "=================================================================\n",
      "conv2d_1 (Conv2D)            (None, 62, 62, 32)        896       \n",
      "_________________________________________________________________\n",
      "conv2d_2 (Conv2D)            (None, 60, 60, 64)        18496     \n",
      "_________________________________________________________________\n",
      "max_pooling2d_1 (MaxPooling2 (None, 30, 30, 64)        0         \n",
      "_________________________________________________________________\n",
      "dropout_1 (Dropout)          (None, 30, 30, 64)        0         \n",
      "_________________________________________________________________\n",
      "flatten_1 (Flatten)          (None, 57600)             0         \n",
      "_________________________________________________________________\n",
      "dense_1 (Dense)              (None, 128)               7372928   \n",
      "_________________________________________________________________\n",
      "dropout_2 (Dropout)          (None, 128)               0         \n",
      "_________________________________________________________________\n",
      "dense_2 (Dense)              (None, 10)                1290      \n",
      "=================================================================\n",
      "Total params: 7,393,610\n",
      "Trainable params: 7,393,610\n",
      "Non-trainable params: 0\n",
      "_________________________________________________________________\n"
     ]
    }
   ],
   "source": [
    "model.summary()"
   ]
  },
  {
   "cell_type": "code",
   "execution_count": 0,
   "metadata": {
    "colab": {
     "base_uri": "https://localhost:8080/",
     "height": 68
    },
    "colab_type": "code",
    "executionInfo": {
     "elapsed": 14388,
     "status": "ok",
     "timestamp": 1572894263616,
     "user": {
      "displayName": "Armi Raz",
      "photoUrl": "https://lh3.googleusercontent.com/a-/AAuE7mAHWqYQn3mmw1aIDUGuGBYdPIHXu01_T8HlF5YXsQ=s64",
      "userId": "13383343268747959111"
     },
     "user_tz": -210
    },
    "id": "BX02A19vy2Ib",
    "outputId": "d4e3cb00-ebdc-4dcb-8db1-21340b24fdf8"
   },
   "outputs": [
    {
     "name": "stdout",
     "output_type": "stream",
     "text": [
      "Wait for 8 seconds...\n",
      "TensorBoard link:\n",
      "https://66c34f98.ngrok.io\n"
     ]
    }
   ],
   "source": [
    "tensorboard_model = TensorBoardColab()"
   ]
  },
  {
   "cell_type": "code",
   "execution_count": 0,
   "metadata": {
    "colab": {
     "base_uri": "https://localhost:8080/",
     "height": 833
    },
    "colab_type": "code",
    "executionInfo": {
     "elapsed": 39837,
     "status": "ok",
     "timestamp": 1572894322107,
     "user": {
      "displayName": "Armi Raz",
      "photoUrl": "https://lh3.googleusercontent.com/a-/AAuE7mAHWqYQn3mmw1aIDUGuGBYdPIHXu01_T8HlF5YXsQ=s64",
      "userId": "13383343268747959111"
     },
     "user_tz": -210
    },
    "id": "0cF6NYvqKC7F",
    "outputId": "def11a74-0f1f-4a6f-eced-239ac520b05f"
   },
   "outputs": [
    {
     "name": "stdout",
     "output_type": "stream",
     "text": [
      "WARNING:tensorflow:From /usr/local/lib/python3.6/dist-packages/tensorflow_core/python/ops/math_grad.py:1424: where (from tensorflow.python.ops.array_ops) is deprecated and will be removed in a future version.\n",
      "Instructions for updating:\n",
      "Use tf.where in 2.0, which has the same broadcast rule as np.where\n",
      "WARNING:tensorflow:From /usr/local/lib/python3.6/dist-packages/keras/backend/tensorflow_backend.py:1033: The name tf.assign_add is deprecated. Please use tf.compat.v1.assign_add instead.\n",
      "\n",
      "WARNING:tensorflow:From /usr/local/lib/python3.6/dist-packages/keras/backend/tensorflow_backend.py:1020: The name tf.assign is deprecated. Please use tf.compat.v1.assign instead.\n",
      "\n",
      "WARNING:tensorflow:From /usr/local/lib/python3.6/dist-packages/keras/backend/tensorflow_backend.py:3005: The name tf.Session is deprecated. Please use tf.compat.v1.Session instead.\n",
      "\n",
      "Train on 1800 samples, validate on 200 samples\n",
      "WARNING:tensorflow:From /usr/local/lib/python3.6/dist-packages/tensorboardcolab/core.py:49: The name tf.summary.FileWriter is deprecated. Please use tf.compat.v1.summary.FileWriter instead.\n",
      "\n",
      "WARNING:tensorflow:From /usr/local/lib/python3.6/dist-packages/keras/backend/tensorflow_backend.py:190: The name tf.get_default_session is deprecated. Please use tf.compat.v1.get_default_session instead.\n",
      "\n",
      "WARNING:tensorflow:From /usr/local/lib/python3.6/dist-packages/keras/backend/tensorflow_backend.py:197: The name tf.ConfigProto is deprecated. Please use tf.compat.v1.ConfigProto instead.\n",
      "\n",
      "WARNING:tensorflow:From /usr/local/lib/python3.6/dist-packages/keras/backend/tensorflow_backend.py:207: The name tf.global_variables is deprecated. Please use tf.compat.v1.global_variables instead.\n",
      "\n",
      "WARNING:tensorflow:From /usr/local/lib/python3.6/dist-packages/keras/backend/tensorflow_backend.py:216: The name tf.is_variable_initialized is deprecated. Please use tf.compat.v1.is_variable_initialized instead.\n",
      "\n",
      "WARNING:tensorflow:From /usr/local/lib/python3.6/dist-packages/keras/backend/tensorflow_backend.py:223: The name tf.variables_initializer is deprecated. Please use tf.compat.v1.variables_initializer instead.\n",
      "\n",
      "WARNING:tensorflow:From /usr/local/lib/python3.6/dist-packages/keras/callbacks.py:1122: The name tf.summary.merge_all is deprecated. Please use tf.compat.v1.summary.merge_all instead.\n",
      "\n",
      "Epoch 1/10\n",
      "1800/1800 [==============================] - 5s 3ms/step - loss: 1.2405 - acc: 0.5772 - val_loss: 0.3409 - val_acc: 0.9150\n",
      "WARNING:tensorflow:From /usr/local/lib/python3.6/dist-packages/tensorboardcolab/callbacks.py:51: The name tf.Summary is deprecated. Please use tf.compat.v1.Summary instead.\n",
      "\n",
      "Epoch 2/10\n",
      "1800/1800 [==============================] - 3s 2ms/step - loss: 0.4279 - acc: 0.8539 - val_loss: 0.2196 - val_acc: 0.9150\n",
      "Epoch 3/10\n",
      "1800/1800 [==============================] - 3s 2ms/step - loss: 0.2690 - acc: 0.9150 - val_loss: 0.1319 - val_acc: 0.9750\n",
      "Epoch 4/10\n",
      "1800/1800 [==============================] - 3s 2ms/step - loss: 0.1871 - acc: 0.9333 - val_loss: 0.1820 - val_acc: 0.9500\n",
      "Epoch 5/10\n",
      "1800/1800 [==============================] - 3s 2ms/step - loss: 0.1647 - acc: 0.9450 - val_loss: 0.1325 - val_acc: 0.9600\n",
      "Epoch 6/10\n",
      "1800/1800 [==============================] - 3s 2ms/step - loss: 0.1251 - acc: 0.9606 - val_loss: 0.1375 - val_acc: 0.9600\n",
      "Epoch 7/10\n",
      "1800/1800 [==============================] - 3s 2ms/step - loss: 0.1061 - acc: 0.9650 - val_loss: 0.0794 - val_acc: 0.9800\n",
      "Epoch 8/10\n",
      "1800/1800 [==============================] - 3s 2ms/step - loss: 0.1552 - acc: 0.9522 - val_loss: 0.0661 - val_acc: 0.9750\n",
      "Epoch 9/10\n",
      "1800/1800 [==============================] - 3s 2ms/step - loss: 0.0881 - acc: 0.9728 - val_loss: 0.0860 - val_acc: 0.9800\n",
      "Epoch 10/10\n",
      "1800/1800 [==============================] - 3s 2ms/step - loss: 0.0847 - acc: 0.9683 - val_loss: 0.0993 - val_acc: 0.9750\n",
      "CPU times: user 37.5 s, sys: 7.54 s, total: 45 s\n",
      "Wall time: 39.3 s\n"
     ]
    }
   ],
   "source": [
    "%%time\n",
    "history = model.fit(X_train, y_train, batch_size=4, epochs=10, verbose=1, validation_data=(X_test, y_test), callbacks=[TensorBoardColabCallback(tensorboard_model)])"
   ]
  },
  {
   "cell_type": "code",
   "execution_count": 0,
   "metadata": {
    "colab": {
     "base_uri": "https://localhost:8080/",
     "height": 269
    },
    "colab_type": "code",
    "executionInfo": {
     "elapsed": 682,
     "status": "ok",
     "timestamp": 1572894331045,
     "user": {
      "displayName": "Armi Raz",
      "photoUrl": "https://lh3.googleusercontent.com/a-/AAuE7mAHWqYQn3mmw1aIDUGuGBYdPIHXu01_T8HlF5YXsQ=s64",
      "userId": "13383343268747959111"
     },
     "user_tz": -210
    },
    "id": "pIDQh1iNKC-H",
    "outputId": "2c489d5e-70bc-4c3f-98bc-3f0e02622e94"
   },
   "outputs": [
    {
     "data": {
      "image/png": "[encoded data removed]",
      "text/plain": [
       "<Figure size 432x288 with 1 Axes>"
      ]
     },
     "metadata": {
      "tags": []
     },
     "output_type": "display_data"
    }
   ],
   "source": [
    "plt.plot(history.history['acc'])\n",
    "plt.plot(history.history['val_acc'])\n",
    "plt.legend(['training', 'validation'], loc = 'upper left')\n",
    "plt.savefig('cnn1.png')\n",
    "# plt.show()"
   ]
  },
  {
   "cell_type": "code",
   "execution_count": 0,
   "metadata": {
    "colab": {
     "base_uri": "https://localhost:8080/",
     "height": 34
    },
    "colab_type": "code",
    "executionInfo": {
     "elapsed": 848,
     "status": "ok",
     "timestamp": 1572894335818,
     "user": {
      "displayName": "Armi Raz",
      "photoUrl": "https://lh3.googleusercontent.com/a-/AAuE7mAHWqYQn3mmw1aIDUGuGBYdPIHXu01_T8HlF5YXsQ=s64",
      "userId": "13383343268747959111"
     },
     "user_tz": -210
    },
    "id": "lriwiyELKDCB",
    "outputId": "aad10a26-4e99-4049-84ee-689b39f659de"
   },
   "outputs": [
    {
     "name": "stdout",
     "output_type": "stream",
     "text": [
      "200/200 [==============================] - 0s 314us/step\n"
     ]
    }
   ],
   "source": [
    "results = model.evaluate(X_test, y_test)"
   ]
  },
  {
   "cell_type": "code",
   "execution_count": 0,
   "metadata": {
    "colab": {
     "base_uri": "https://localhost:8080/",
     "height": 34
    },
    "colab_type": "code",
    "executionInfo": {
     "elapsed": 588,
     "status": "ok",
     "timestamp": 1572894339212,
     "user": {
      "displayName": "Armi Raz",
      "photoUrl": "https://lh3.googleusercontent.com/a-/AAuE7mAHWqYQn3mmw1aIDUGuGBYdPIHXu01_T8HlF5YXsQ=s64",
      "userId": "13383343268747959111"
     },
     "user_tz": -210
    },
    "id": "t5Ct_SybKDVa",
    "outputId": "9e94650a-6fd8-45cc-847e-aaef9efbf99f"
   },
   "outputs": [
    {
     "name": "stdout",
     "output_type": "stream",
     "text": [
      "Test accuracy:  0.975\n"
     ]
    }
   ],
   "source": [
    "print('Test accuracy: ', results[1])"
   ]
  },
  {
   "cell_type": "markdown",
   "metadata": {
    "colab_type": "text",
    "id": "BDErM7CrRFT4"
   },
   "source": [
    "## CNN #2"
   ]
  },
  {
   "cell_type": "code",
   "execution_count": 0,
   "metadata": {
    "colab": {},
    "colab_type": "code",
    "id": "MnlkjYdJRFhX"
   },
   "outputs": [],
   "source": [
    "data_shape = (X_train.shape[1], X_train.shape[2], X_train.shape[3])\n",
    "def cnn_2():\n",
    "    model = Sequential()\n",
    "    \n",
    "    model.add(Conv2D(32, (3, 3), padding='same', input_shape=data_shape))\n",
    "    model.add(Activation('relu'))\n",
    "    model.add(Conv2D(64, (3, 3)))\n",
    "    model.add(Activation('relu'))\n",
    "    model.add(MaxPooling2D(pool_size=(2, 2)))\n",
    "    model.add(Dropout(0.25))\n",
    "    model.add(Conv2D(64, (3, 3), padding='same'))\n",
    "    model.add(Activation('relu'))\n",
    "    model.add(Conv2D(64, (3, 3)))\n",
    "    model.add(Activation('relu'))\n",
    "    model.add(MaxPooling2D(pool_size=(2, 2)))\n",
    "    model.add(Dropout(0.5))\n",
    "    model.add(Conv2D(128, (3, 3), padding='same'))\n",
    "    model.add(Activation('relu'))\n",
    "    model.add(Conv2D(128, (3, 3)))\n",
    "    model.add(Activation('relu'))\n",
    "    model.add(MaxPooling2D(pool_size=(2, 2)))\n",
    "    model.add(Dropout(0.5))\n",
    "    model.add(Flatten())\n",
    "    model.add(Dense(512))\n",
    "    model.add(Activation('relu'))\n",
    "    model.add(Dropout(0.5))\n",
    "    model.add(Dense(10, activation='softmax'))\n",
    "    \n",
    "    adam = optimizers.rmsprop(lr = 0.001)\n",
    "    model.compile(loss = 'categorical_crossentropy', optimizer = adam, metrics = ['accuracy'])\n",
    "    \n",
    "    return model"
   ]
  },
  {
   "cell_type": "code",
   "execution_count": 0,
   "metadata": {
    "colab": {},
    "colab_type": "code",
    "id": "W3EtMW3SRFyQ"
   },
   "outputs": [],
   "source": [
    "model2 = cnn_2()"
   ]
  },
  {
   "cell_type": "code",
   "execution_count": 0,
   "metadata": {
    "colab": {
     "base_uri": "https://localhost:8080/",
     "height": 935
    },
    "colab_type": "code",
    "executionInfo": {
     "elapsed": 596,
     "status": "ok",
     "timestamp": 1572894919210,
     "user": {
      "displayName": "Armi Raz",
      "photoUrl": "https://lh3.googleusercontent.com/a-/AAuE7mAHWqYQn3mmw1aIDUGuGBYdPIHXu01_T8HlF5YXsQ=s64",
      "userId": "13383343268747959111"
     },
     "user_tz": -210
    },
    "id": "NOiyRxozRGPF",
    "outputId": "7b60f561-30de-4c9c-fdd2-112a8528d576"
   },
   "outputs": [
    {
     "name": "stdout",
     "output_type": "stream",
     "text": [
      "Model: \"sequential_2\"\n",
      "_________________________________________________________________\n",
      "Layer (type)                 Output Shape              Param #   \n",
      "=================================================================\n",
      "conv2d_3 (Conv2D)            (None, 64, 64, 32)        896       \n",
      "_________________________________________________________________\n",
      "activation_1 (Activation)    (None, 64, 64, 32)        0         \n",
      "_________________________________________________________________\n",
      "conv2d_4 (Conv2D)            (None, 62, 62, 64)        18496     \n",
      "_________________________________________________________________\n",
      "activation_2 (Activation)    (None, 62, 62, 64)        0         \n",
      "_________________________________________________________________\n",
      "max_pooling2d_2 (MaxPooling2 (None, 31, 31, 64)        0         \n",
      "_________________________________________________________________\n",
      "dropout_3 (Dropout)          (None, 31, 31, 64)        0         \n",
      "_________________________________________________________________\n",
      "conv2d_5 (Conv2D)            (None, 31, 31, 64)        36928     \n",
      "_________________________________________________________________\n",
      "activation_3 (Activation)    (None, 31, 31, 64)        0         \n",
      "_________________________________________________________________\n",
      "conv2d_6 (Conv2D)            (None, 29, 29, 64)        36928     \n",
      "_________________________________________________________________\n",
      "activation_4 (Activation)    (None, 29, 29, 64)        0         \n",
      "_________________________________________________________________\n",
      "max_pooling2d_3 (MaxPooling2 (None, 14, 14, 64)        0         \n",
      "_________________________________________________________________\n",
      "dropout_4 (Dropout)          (None, 14, 14, 64)        0         \n",
      "_________________________________________________________________\n",
      "conv2d_7 (Conv2D)            (None, 14, 14, 128)       73856     \n",
      "_________________________________________________________________\n",
      "activation_5 (Activation)    (None, 14, 14, 128)       0         \n",
      "_________________________________________________________________\n",
      "conv2d_8 (Conv2D)            (None, 12, 12, 128)       147584    \n",
      "_________________________________________________________________\n",
      "activation_6 (Activation)    (None, 12, 12, 128)       0         \n",
      "_________________________________________________________________\n",
      "max_pooling2d_4 (MaxPooling2 (None, 6, 6, 128)         0         \n",
      "_________________________________________________________________\n",
      "dropout_5 (Dropout)          (None, 6, 6, 128)         0         \n",
      "_________________________________________________________________\n",
      "flatten_2 (Flatten)          (None, 4608)              0         \n",
      "_________________________________________________________________\n",
      "dense_3 (Dense)              (None, 512)               2359808   \n",
      "_________________________________________________________________\n",
      "activation_7 (Activation)    (None, 512)               0         \n",
      "_________________________________________________________________\n",
      "dropout_6 (Dropout)          (None, 512)               0         \n",
      "_________________________________________________________________\n",
      "dense_4 (Dense)              (None, 10)                5130      \n",
      "=================================================================\n",
      "Total params: 2,679,626\n",
      "Trainable params: 2,679,626\n",
      "Non-trainable params: 0\n",
      "_________________________________________________________________\n"
     ]
    }
   ],
   "source": [
    "model2.summary()"
   ]
  },
  {
   "cell_type": "code",
   "execution_count": 0,
   "metadata": {
    "colab": {
     "base_uri": "https://localhost:8080/",
     "height": 68
    },
    "colab_type": "code",
    "executionInfo": {
     "elapsed": 14007,
     "status": "ok",
     "timestamp": 1572894935614,
     "user": {
      "displayName": "Armi Raz",
      "photoUrl": "https://lh3.googleusercontent.com/a-/AAuE7mAHWqYQn3mmw1aIDUGuGBYdPIHXu01_T8HlF5YXsQ=s64",
      "userId": "13383343268747959111"
     },
     "user_tz": -210
    },
    "id": "uW_Oz8kl1IYG",
    "outputId": "84ad684b-dbbb-4f73-dc98-e255ca5c0fb8"
   },
   "outputs": [
    {
     "name": "stdout",
     "output_type": "stream",
     "text": [
      "Wait for 8 seconds...\n",
      "TensorBoard link:\n",
      "https://bd5dd90c.ngrok.io\n"
     ]
    }
   ],
   "source": [
    "tensorboard_model2 = TensorBoardColab()"
   ]
  },
  {
   "cell_type": "code",
   "execution_count": 0,
   "metadata": {
    "colab": {
     "base_uri": "https://localhost:8080/",
     "height": 51
    },
    "colab_type": "code",
    "executionInfo": {
     "elapsed": 73473,
     "status": "ok",
     "timestamp": 1572895016427,
     "user": {
      "displayName": "Armi Raz",
      "photoUrl": "https://lh3.googleusercontent.com/a-/AAuE7mAHWqYQn3mmw1aIDUGuGBYdPIHXu01_T8HlF5YXsQ=s64",
      "userId": "13383343268747959111"
     },
     "user_tz": -210
    },
    "id": "6--HaoiTRGSG",
    "outputId": "af85df96-b7aa-473c-98e0-97caa74adf88"
   },
   "outputs": [
    {
     "name": "stdout",
     "output_type": "stream",
     "text": [
      "CPU times: user 1min 2s, sys: 11.1 s, total: 1min 13s\n",
      "Wall time: 1min 12s\n"
     ]
    }
   ],
   "source": [
    "%%time\n",
    "history = model2.fit(X_train, y_train, batch_size=32, epochs=100, verbose=0, validation_data=(X_test, y_test), callbacks=[TensorBoardColabCallback(tensorboard_model2)] )"
   ]
  },
  {
   "cell_type": "code",
   "execution_count": 0,
   "metadata": {
    "colab": {
     "base_uri": "https://localhost:8080/",
     "height": 265
    },
    "colab_type": "code",
    "executionInfo": {
     "elapsed": 710,
     "status": "ok",
     "timestamp": 1572895056115,
     "user": {
      "displayName": "Armi Raz",
      "photoUrl": "https://lh3.googleusercontent.com/a-/AAuE7mAHWqYQn3mmw1aIDUGuGBYdPIHXu01_T8HlF5YXsQ=s64",
      "userId": "13383343268747959111"
     },
     "user_tz": -210
    },
    "id": "ZkbNGvPARGVD",
    "outputId": "69cc17f9-5a1c-46d5-d4c6-857a1f5f49c7"
   },
   "outputs": [
    {
     "data": {
      "image/png": "[encoded data removed]",
      "text/plain": [
       "<Figure size 432x288 with 1 Axes>"
      ]
     },
     "metadata": {
      "tags": []
     },
     "output_type": "display_data"
    }
   ],
   "source": [
    "plt.plot(history.history['acc'])\n",
    "plt.plot(history.history['val_acc'])\n",
    "plt.legend(['training', 'validation'], loc = 'upper left')\n",
    "plt.savefig('cnn2.png')\n",
    "# plt.show()"
   ]
  },
  {
   "cell_type": "code",
   "execution_count": 0,
   "metadata": {
    "colab": {
     "base_uri": "https://localhost:8080/",
     "height": 34
    },
    "colab_type": "code",
    "executionInfo": {
     "elapsed": 1891,
     "status": "ok",
     "timestamp": 1572895061062,
     "user": {
      "displayName": "Armi Raz",
      "photoUrl": "https://lh3.googleusercontent.com/a-/AAuE7mAHWqYQn3mmw1aIDUGuGBYdPIHXu01_T8HlF5YXsQ=s64",
      "userId": "13383343268747959111"
     },
     "user_tz": -210
    },
    "id": "ICXqxmbxRGMt",
    "outputId": "b8a43881-8aac-4226-f028-0783b2ae3168"
   },
   "outputs": [
    {
     "name": "stdout",
     "output_type": "stream",
     "text": [
      "200/200 [==============================] - 0s 196us/step\n"
     ]
    }
   ],
   "source": [
    "results = model2.evaluate(X_test, y_test)"
   ]
  },
  {
   "cell_type": "code",
   "execution_count": 0,
   "metadata": {
    "colab": {
     "base_uri": "https://localhost:8080/",
     "height": 34
    },
    "colab_type": "code",
    "executionInfo": {
     "elapsed": 625,
     "status": "ok",
     "timestamp": 1572895063145,
     "user": {
      "displayName": "Armi Raz",
      "photoUrl": "https://lh3.googleusercontent.com/a-/AAuE7mAHWqYQn3mmw1aIDUGuGBYdPIHXu01_T8HlF5YXsQ=s64",
      "userId": "13383343268747959111"
     },
     "user_tz": -210
    },
    "id": "_tO3SwxnRGJ0",
    "outputId": "22154e41-5a4e-484f-ef2a-39e756196390"
   },
   "outputs": [
    {
     "name": "stdout",
     "output_type": "stream",
     "text": [
      "Test accuracy:  0.975\n"
     ]
    }
   ],
   "source": [
    "print('Test accuracy: ', results[1])"
   ]
  },
  {
   "cell_type": "markdown",
   "metadata": {
    "colab_type": "text",
    "id": "bThrZiHwEJe4"
   },
   "source": [
    "## LSTM"
   ]
  },
  {
   "cell_type": "code",
   "execution_count": 0,
   "metadata": {
    "colab": {},
    "colab_type": "code",
    "id": "QqQf_dlVEJwA"
   },
   "outputs": [],
   "source": [
    "from keras.layers import LSTM\n",
    "from keras.wrappers.scikit_learn import KerasClassifier\n",
    "from sklearn.metrics import accuracy_score"
   ]
  },
  {
   "cell_type": "code",
   "execution_count": 21,
   "metadata": {
    "colab": {
     "base_uri": "https://localhost:8080/",
     "height": 34
    },
    "colab_type": "code",
    "executionInfo": {
     "elapsed": 952,
     "status": "ok",
     "timestamp": 1573034012804,
     "user": {
      "displayName": "Armi Raz",
      "photoUrl": "https://lh3.googleusercontent.com/a-/AAuE7mAHWqYQn3mmw1aIDUGuGBYdPIHXu01_T8HlF5YXsQ=s64",
      "userId": "13383343268747959111"
     },
     "user_tz": -210
    },
    "id": "yjUCmN_qGi-y",
    "outputId": "be521c25-8493-4a53-84b0-a7fde9607333"
   },
   "outputs": [
    {
     "name": "stdout",
     "output_type": "stream",
     "text": [
      "(200, 64, 192)\n"
     ]
    }
   ],
   "source": [
    "X_train1 = X_train.reshape((X_train.shape[0],X_train.shape[1], X_train.shape[2] * X_train.shape[3]))\n",
    "X_test1 = X_test.reshape((X_test.shape[0],X_test.shape[1], X_test.shape[2] * X_test.shape[3]))\n",
    "print(X_test1.shape)"
   ]
  },
  {
   "cell_type": "code",
   "execution_count": 0,
   "metadata": {
    "colab": {},
    "colab_type": "code",
    "id": "ZKTgsut1EJ8n"
   },
   "outputs": [],
   "source": [
    "data_shape1 = (X_train1.shape[1], X_train1.shape[2])\n",
    "def lstm():\n",
    "    model = Sequential()\n",
    "    model.add(LSTM(50, input_shape = data_shape1, return_sequences = False))\n",
    "    model.add(Dense(10))\n",
    "    model.add(Activation('softmax'))\n",
    "    \n",
    "    adam = optimizers.Adam(lr = 0.001)\n",
    "    model.compile(loss = 'categorical_crossentropy', optimizer = adam, metrics = ['accuracy'])\n",
    "    \n",
    "    return model"
   ]
  },
  {
   "cell_type": "code",
   "execution_count": 0,
   "metadata": {
    "colab": {},
    "colab_type": "code",
    "id": "mceB0kywEKHJ"
   },
   "outputs": [],
   "source": [
    "model = KerasClassifier(build_fn = lstm, epochs = 100, batch_size = 50, verbose = 1)"
   ]
  },
  {
   "cell_type": "code",
   "execution_count": 24,
   "metadata": {
    "colab": {
     "base_uri": "https://localhost:8080/",
     "height": 357
    },
    "colab_type": "code",
    "executionInfo": {
     "elapsed": 411854,
     "status": "ok",
     "timestamp": 1573034560580,
     "user": {
      "displayName": "Armi Raz",
      "photoUrl": "https://lh3.googleusercontent.com/a-/AAuE7mAHWqYQn3mmw1aIDUGuGBYdPIHXu01_T8HlF5YXsQ=s64",
      "userId": "13383343268747959111"
     },
     "user_tz": -210
    },
    "id": "6bjr-J0aEKQ7",
    "outputId": "d1843b8e-647c-4058-b888-d68bd2b6b679"
   },
   "outputs": [
    {
     "name": "stdout",
     "output_type": "stream",
     "text": [
      "WARNING:tensorflow:From /usr/local/lib/python3.6/dist-packages/tensorflow_core/python/ops/math_grad.py:1424: where (from tensorflow.python.ops.array_ops) is deprecated and will be removed in a future version.\n",
      "Instructions for updating:\n",
      "Use tf.where in 2.0, which has the same broadcast rule as np.where\n",
      "WARNING:tensorflow:From /usr/local/lib/python3.6/dist-packages/keras/backend/tensorflow_backend.py:1033: The name tf.assign_add is deprecated. Please use tf.compat.v1.assign_add instead.\n",
      "\n",
      "WARNING:tensorflow:From /usr/local/lib/python3.6/dist-packages/keras/backend/tensorflow_backend.py:1020: The name tf.assign is deprecated. Please use tf.compat.v1.assign instead.\n",
      "\n",
      "WARNING:tensorflow:From /usr/local/lib/python3.6/dist-packages/keras/backend/tensorflow_backend.py:3005: The name tf.Session is deprecated. Please use tf.compat.v1.Session instead.\n",
      "\n",
      "WARNING:tensorflow:From /usr/local/lib/python3.6/dist-packages/keras/backend/tensorflow_backend.py:190: The name tf.get_default_session is deprecated. Please use tf.compat.v1.get_default_session instead.\n",
      "\n",
      "WARNING:tensorflow:From /usr/local/lib/python3.6/dist-packages/keras/backend/tensorflow_backend.py:197: The name tf.ConfigProto is deprecated. Please use tf.compat.v1.ConfigProto instead.\n",
      "\n",
      "WARNING:tensorflow:From /usr/local/lib/python3.6/dist-packages/keras/backend/tensorflow_backend.py:207: The name tf.global_variables is deprecated. Please use tf.compat.v1.global_variables instead.\n",
      "\n",
      "WARNING:tensorflow:From /usr/local/lib/python3.6/dist-packages/keras/backend/tensorflow_backend.py:216: The name tf.is_variable_initialized is deprecated. Please use tf.compat.v1.is_variable_initialized instead.\n",
      "\n",
      "WARNING:tensorflow:From /usr/local/lib/python3.6/dist-packages/keras/backend/tensorflow_backend.py:223: The name tf.variables_initializer is deprecated. Please use tf.compat.v1.variables_initializer instead.\n",
      "\n"
     ]
    },
    {
     "data": {
      "text/plain": [
       "<keras.callbacks.History at 0x7effc3f9d630>"
      ]
     },
     "execution_count": 24,
     "metadata": {
      "tags": []
     },
     "output_type": "execute_result"
    }
   ],
   "source": [
    "model.fit(X_train1, y_train,verbose=0)"
   ]
  },
  {
   "cell_type": "code",
   "execution_count": 25,
   "metadata": {
    "colab": {
     "base_uri": "https://localhost:8080/",
     "height": 34
    },
    "colab_type": "code",
    "executionInfo": {
     "elapsed": 1202,
     "status": "ok",
     "timestamp": 1573034611577,
     "user": {
      "displayName": "Armi Raz",
      "photoUrl": "https://lh3.googleusercontent.com/a-/AAuE7mAHWqYQn3mmw1aIDUGuGBYdPIHXu01_T8HlF5YXsQ=s64",
      "userId": "13383343268747959111"
     },
     "user_tz": -210
    },
    "id": "ETMKD3YjEKp9",
    "outputId": "b850960f-ce30-4672-c818-d95395d452f1"
   },
   "outputs": [
    {
     "name": "stdout",
     "output_type": "stream",
     "text": [
      "200/200 [==============================] - 0s 1ms/step\n"
     ]
    }
   ],
   "source": [
    "y_pred = model.predict(X_test1)"
   ]
  },
  {
   "cell_type": "code",
   "execution_count": 0,
   "metadata": {
    "colab": {},
    "colab_type": "code",
    "id": "GNpu2Z2gL53r"
   },
   "outputs": [],
   "source": [
    "y_test_ = np.argmax(y_test, axis = 1)"
   ]
  },
  {
   "cell_type": "code",
   "execution_count": 31,
   "metadata": {
    "colab": {
     "base_uri": "https://localhost:8080/",
     "height": 34
    },
    "colab_type": "code",
    "executionInfo": {
     "elapsed": 882,
     "status": "ok",
     "timestamp": 1573034931206,
     "user": {
      "displayName": "Armi Raz",
      "photoUrl": "https://lh3.googleusercontent.com/a-/AAuE7mAHWqYQn3mmw1aIDUGuGBYdPIHXu01_T8HlF5YXsQ=s64",
      "userId": "13383343268747959111"
     },
     "user_tz": -210
    },
    "id": "yvQlyhB7FEQl",
    "outputId": "3dfd8d95-4a24-47a9-d543-45a9812fdf80"
   },
   "outputs": [
    {
     "name": "stdout",
     "output_type": "stream",
     "text": [
      "0.93\n"
     ]
    }
   ],
   "source": [
    "# accuracy improves by adopting LSTM structure\n",
    "print(accuracy_score(y_pred, y_test_))"
   ]
  }
 ],
 "metadata": {
  "accelerator": "GPU",
  "colab": {
   "collapsed_sections": [],
   "name": "model.ipynb",
   "provenance": []
  },
  "kernelspec": {
   "display_name": "Python 3",
   "language": "python",
   "name": "python3"
  },
  "language_info": {
   "codemirror_mode": {
    "name": "ipython",
    "version": 3
   },
   "file_extension": ".py",
   "mimetype": "text/x-python",
   "name": "python",
   "nbconvert_exporter": "python",
   "pygments_lexer": "ipython3",
   "version": "3.7.3"
  }
 },
 "nbformat": 4,
 "nbformat_minor": 1
}
