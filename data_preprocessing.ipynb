{
 "cells": [
  {
   "cell_type": "code",
   "execution_count": 0,
   "metadata": {
    "colab": {},
    "colab_type": "code",
    "id": "wyumrwke6pU0"
   },
   "outputs": [],
   "source": [
    "import os\n",
    "import numpy as np\n",
    "import matplotlib.pyplot as plt\n",
    "from keras.preprocessing import image\n",
    "from keras.utils.np_utils import to_categorical"
   ]
  },
  {
   "cell_type": "code",
   "execution_count": 0,
   "metadata": {
    "colab": {
     "base_uri": "https://localhost:8080/",
     "height": 81
    },
    "colab_type": "code",
    "executionInfo": {
     "elapsed": 1130,
     "status": "ok",
     "timestamp": 1572705479456,
     "user": {
      "displayName": "Armi Raz",
      "photoUrl": "https://lh3.googleusercontent.com/a-/AAuE7mAHWqYQn3mmw1aIDUGuGBYdPIHXu01_T8HlF5YXsQ=s64",
      "userId": "13383343268747959111"
     },
     "user_tz": -210
    },
    "id": "tt5PvAgp6rHi",
    "outputId": "cedf827d-ae76-4211-b290-6feab48f3286"
   },
   "outputs": [
    {
     "data": {
      "image/png": "[encoded data removed]",
      "text/plain": [
       "<PIL.Image.Image image mode=RGB size=64x64 at 0x7F3B0BC0C2E8>"
      ]
     },
     "execution_count": 11,
     "metadata": {
      "tags": []
     },
     "output_type": "execute_result"
    }
   ],
   "source": [
    "# img = image.load_img(\"spectrograms/0_jackson_0.png\")\n",
    "# img"
   ]
  },
  {
   "cell_type": "code",
   "execution_count": 0,
   "metadata": {
    "colab": {
     "base_uri": "https://localhost:8080/",
     "height": 34
    },
    "colab_type": "code",
    "executionInfo": {
     "elapsed": 785,
     "status": "ok",
     "timestamp": 1572715793656,
     "user": {
      "displayName": "Armi Raz",
      "photoUrl": "https://lh3.googleusercontent.com/a-/AAuE7mAHWqYQn3mmw1aIDUGuGBYdPIHXu01_T8HlF5YXsQ=s64",
      "userId": "13383343268747959111"
     },
     "user_tz": -210
    },
    "id": "BkhafFXS6rME",
    "outputId": "dd943449-5583-4516-d5c8-4f2700d446fe"
   },
   "outputs": [
    {
     "name": "stdout",
     "output_type": "stream",
     "text": [
      "(64, 64, 3)\n"
     ]
    }
   ],
   "source": [
    "# img_arr = image.img_to_array(img)\n",
    "# print(img_arr.shape)\n",
    "# img_arr"
   ]
  },
  {
   "cell_type": "code",
   "execution_count": 0,
   "metadata": {
    "colab": {
     "base_uri": "https://localhost:8080/",
     "height": 34
    },
    "colab_type": "code",
    "executionInfo": {
     "elapsed": 1002,
     "status": "ok",
     "timestamp": 1572707690244,
     "user": {
      "displayName": "Armi Raz",
      "photoUrl": "https://lh3.googleusercontent.com/a-/AAuE7mAHWqYQn3mmw1aIDUGuGBYdPIHXu01_T8HlF5YXsQ=s64",
      "userId": "13383343268747959111"
     },
     "user_tz": -210
    },
    "id": "T4hakrRv6rPH",
    "outputId": "cfa1c540-6b89-4c0b-bb2d-4c82746c89ca"
   },
   "outputs": [
    {
     "name": "stdout",
     "output_type": "stream",
     "text": [
      "(1, 64, 64, 3)\n"
     ]
    }
   ],
   "source": [
    "# img_arr = np.expand_dims(img_arr, axis=0)\n",
    "# print(img_arr.shape)"
   ]
  },
  {
   "cell_type": "code",
   "execution_count": 0,
   "metadata": {
    "colab": {},
    "colab_type": "code",
    "id": "9WzkiX0fMZwT"
   },
   "outputs": [],
   "source": [
    "# Load all images files, convert to numpy array with related labels in a list format\n",
    "imagesDir = \"spectrograms/\"\n",
    "trainset = []\n",
    "testset = []\n",
    "for file in os.listdir(imagesDir):\n",
    "    label = file.split('_')[0]\n",
    "    sample_number = file.split('_')[2]\n",
    "    img = image.load_img(imagesDir+file)\n",
    "    if sample_number in ['0.png','1.png','2.png','3.png','4.png']:\n",
    "        testset.append([image.img_to_array(img), label])\n",
    "    else:\n",
    "        trainset.append([image.img_to_array(img), label])    "
   ]
  },
  {
   "cell_type": "code",
   "execution_count": 0,
   "metadata": {
    "colab": {},
    "colab_type": "code",
    "id": "bBOLM6O3MZ78"
   },
   "outputs": [],
   "source": [
    "# img2 = image.array_to_img(trainset[6][0])\n",
    "# img2"
   ]
  },
  {
   "cell_type": "code",
   "execution_count": 0,
   "metadata": {
    "colab": {},
    "colab_type": "code",
    "id": "hU3mT2OqMaEJ"
   },
   "outputs": [],
   "source": [
    "# Get only images in the train list not the Labels\n",
    "X_train = [item[0] for item in trainset]\n",
    "\n",
    "# Get only Labels in the train list not the images\n",
    "y_train = [item[1] for item in trainset]\n",
    "\n",
    "# Get only images in the test list not the Labels\n",
    "X_test = [item[0] for item in testset]\n",
    "\n",
    "# Get only Labels in the test list not the images\n",
    "y_test = [item[1] for item in testset]"
   ]
  },
  {
   "cell_type": "code",
   "execution_count": 0,
   "metadata": {
    "colab": {},
    "colab_type": "code",
    "id": "LoglmxouMaLg"
   },
   "outputs": [],
   "source": [
    "X_test"
   ]
  },
  {
   "cell_type": "code",
   "execution_count": 0,
   "metadata": {
    "colab": {},
    "colab_type": "code",
    "id": "EpSbzkIbMadP"
   },
   "outputs": [],
   "source": [
    "# Convert list to numpy array in order to define input shape\n",
    "X_train = np.asanyarray(X_train)\n",
    "y_train = np.asanyarray(y_train)\n",
    "X_test = np.asanyarray(X_test)\n",
    "y_test = np.asanyarray(y_test)"
   ]
  },
  {
   "cell_type": "code",
   "execution_count": 0,
   "metadata": {
    "colab": {
     "base_uri": "https://localhost:8080/",
     "height": 34
    },
    "colab_type": "code",
    "executionInfo": {
     "elapsed": 1579,
     "status": "ok",
     "timestamp": 1572726122595,
     "user": {
      "displayName": "Armi Raz",
      "photoUrl": "https://lh3.googleusercontent.com/a-/AAuE7mAHWqYQn3mmw1aIDUGuGBYdPIHXu01_T8HlF5YXsQ=s64",
      "userId": "13383343268747959111"
     },
     "user_tz": -210
    },
    "id": "eHpPsGj7l4nx",
    "outputId": "747f4fb7-09de-4b5d-d486-38ba7ea6f4de"
   },
   "outputs": [
    {
     "name": "stdout",
     "output_type": "stream",
     "text": [
      "(1800, 64, 64, 3) (200, 64, 64, 3) (1800,) (200,)\n"
     ]
    }
   ],
   "source": [
    "print(X_train.shape, X_test.shape, y_train.shape, y_test.shape)"
   ]
  },
  {
   "cell_type": "code",
   "execution_count": 0,
   "metadata": {
    "colab": {},
    "colab_type": "code",
    "id": "E3_QDFoZl40R"
   },
   "outputs": [],
   "source": [
    "# converting y data into categorical (one-hot encoding)\n",
    "y_train = to_categorical(y_train)\n",
    "y_test = to_categorical(y_test)"
   ]
  },
  {
   "cell_type": "code",
   "execution_count": 0,
   "metadata": {
    "colab": {
     "base_uri": "https://localhost:8080/",
     "height": 34
    },
    "colab_type": "code",
    "executionInfo": {
     "elapsed": 1804,
     "status": "ok",
     "timestamp": 1572726139955,
     "user": {
      "displayName": "Armi Raz",
      "photoUrl": "https://lh3.googleusercontent.com/a-/AAuE7mAHWqYQn3mmw1aIDUGuGBYdPIHXu01_T8HlF5YXsQ=s64",
      "userId": "13383343268747959111"
     },
     "user_tz": -210
    },
    "id": "bpLBO7_Hl49A",
    "outputId": "94ca4c44-2aae-49d5-a4ca-7e95160c8914"
   },
   "outputs": [
    {
     "name": "stdout",
     "output_type": "stream",
     "text": [
      "(1800, 64, 64, 3) (200, 64, 64, 3) (1800, 10) (200, 10)\n"
     ]
    }
   ],
   "source": [
    "print(X_train.shape, X_test.shape, y_train.shape, y_test.shape)"
   ]
  },
  {
   "cell_type": "code",
   "execution_count": 0,
   "metadata": {
    "colab": {},
    "colab_type": "code",
    "id": "Vticx98_zgUd"
   },
   "outputs": [],
   "source": [
    "# Save data to file to load without creating datasets again\n",
    "\n",
    "np.save('xtrain_file', X_train)\n",
    "np.save('xtest_file', X_test)\n",
    "np.save('ytrain_file', y_train)\n",
    "np.save('ytest_file', y_test)"
   ]
  }
 ],
 "metadata": {
  "accelerator": "GPU",
  "colab": {
   "collapsed_sections": [],
   "name": "data_preprocessing.ipynb",
   "provenance": []
  },
  "kernelspec": {
   "display_name": "Python 3",
   "language": "python",
   "name": "python3"
  },
  "language_info": {
   "codemirror_mode": {
    "name": "ipython",
    "version": 3
   },
   "file_extension": ".py",
   "mimetype": "text/x-python",
   "name": "python",
   "nbconvert_exporter": "python",
   "pygments_lexer": "ipython3",
   "version": "3.7.3"
  }
 },
 "nbformat": 4,
 "nbformat_minor": 1
}
